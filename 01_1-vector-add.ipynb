{
 "cells": [
  {
   "cell_type": "code",
   "execution_count": null,
   "id": "1bd17ed9",
   "metadata": {},
   "outputs": [],
   "source": [
    "import triton\n",
    "import triton.language as tl\n",
    "import torch"
   ]
  },
  {
   "cell_type": "markdown",
   "id": "460f3854",
   "metadata": {},
   "source": [
    "### Compute Kernel"
   ]
  },
  {
   "cell_type": "code",
   "execution_count": null,
   "id": "0dbff606",
   "metadata": {},
   "outputs": [],
   "source": [
    "@triton.jit\n",
    "def add_kernel(a_ptr, \n",
    "               b_ptr, \n",
    "               c_ptr,\n",
    "               n_elements,\n",
    "               BLOCK_SIZE: tl.constexpr,\n",
    "               ):\n",
    "    pid = tl.program_id(0)\n",
    "\n",
    "    block_start  = pid * BLOCK_SIZE\n",
    "    offsets      = block_start + tl.arange(0, BLOCK_SIZE)\n",
    "    offsets_mask = offsets < n_elements\n",
    "\n",
    "    a_vals = tl.load(a_ptr + offsets, mask=offsets_mask)\n",
    "    b_vals = tl.load(b_ptr + offsets, mask=offsets_mask)\n",
    "    \n",
    "    tl.store(c_ptr + offsets, a_vals+b_vals, mask=offsets_mask)"
   ]
  },
  {
   "cell_type": "markdown",
   "id": "e395e4d2",
   "metadata": {},
   "source": [
    "### Setup function"
   ]
  },
  {
   "cell_type": "code",
   "execution_count": null,
   "id": "35c89f4e",
   "metadata": {},
   "outputs": [],
   "source": [
    "def add(a: torch.Tensor, b: torch.Tensor) -> torch.Tensor:\n",
    "    c = torch.empty_like(a)\n",
    "    n_elems = c.numel()\n",
    "\n",
    "    grid = lambda meta: (triton.cdiv(n_elems, meta[\"BLOCK_SIZE\"]), )\n",
    "    add_kernel[grid](a, b, c, n_elems, BLOCK_SIZE=1024)\n",
    "\n",
    "    return c"
   ]
  },
  {
   "cell_type": "markdown",
   "id": "ddc3decb",
   "metadata": {},
   "source": [
    "### Unit test"
   ]
  },
  {
   "cell_type": "code",
   "execution_count": 11,
   "id": "563ee5a8",
   "metadata": {},
   "outputs": [],
   "source": [
    "device = triton.runtime.driver.active.get_active_torch_device()\n",
    "\n",
    "a = torch.randn(4096, device=device)\n",
    "b = torch.randn(4096, device=device)\n",
    "\n",
    "c1 = add(a, b)\n",
    "c2 = a + b\n",
    "\n",
    "torch.testing.assert_close(c1, c2)"
   ]
  },
  {
   "cell_type": "markdown",
   "id": "0dacd95e",
   "metadata": {},
   "source": [
    "### Benchmark"
   ]
  },
  {
   "cell_type": "code",
   "execution_count": 18,
   "id": "2832c3fd",
   "metadata": {},
   "outputs": [
    {
     "data": {
      "image/png": "[encoded data removed]",
      "text/plain": [
       "<Figure size 640x480 with 1 Axes>"
      ]
     },
     "metadata": {},
     "output_type": "display_data"
    },
    {
     "name": "stdout",
     "output_type": "stream",
     "text": [
      "Triton vs. Torch:\n",
      "          size      triton       torch\n",
      "0         64.0    0.072629    0.089964\n",
      "1        256.0    0.360625    0.358868\n",
      "2       1024.0    1.531585    1.545849\n",
      "3       4096.0    6.125367    6.655879\n",
      "4      16384.0   25.827509   25.735484\n",
      "5      65536.0   85.861554   91.820843\n",
      "6     262144.0  256.354967  254.840610\n",
      "7    1048576.0  548.883356  537.031787\n",
      "8    4194304.0  769.416261  747.414033\n",
      "9   16777216.0  843.807380  835.379107\n",
      "10  67108864.0  867.615758  863.338761\n"
     ]
    }
   ],
   "source": [
    "@triton.testing.perf_report(\n",
    "    triton.testing.Benchmark(\n",
    "        x_names    = [\"size\"],\n",
    "        x_vals     = [2**i for i in range(6, 28, 2)],\n",
    "        x_log      = True,\n",
    "        line_arg   = \"provider\",\n",
    "        line_vals  = [\"triton\", \"torch\"],\n",
    "        line_names = [\"triton\", \"torch\"],\n",
    "        ylabel     = 'GB/s',\n",
    "        plot_name  = \"Triton vs. Torch\",\n",
    "        args       = {} \n",
    "    )\n",
    ")\n",
    "def benchmark(size, provider):\n",
    "    a = torch.randn(size, device=device, dtype=torch.float16)\n",
    "    b = torch.randn(size, device=device, dtype=torch.float16)\n",
    "\n",
    "    if provider == \"triton\":\n",
    "        mean_ms = triton.testing.do_bench(lambda: add(a, b))\n",
    "    else:\n",
    "        mean_ms = triton.testing.do_bench(lambda: a + b)\n",
    "    \n",
    "    return (3 * a.numel() * a.element_size() * 1e-9) / (mean_ms * 1e-3)\n",
    "\n",
    "benchmark.run(print_data=True, show_plots=True)"
   ]
  },
  {
   "cell_type": "code",
   "execution_count": null,
   "id": "b5eb5d9e",
   "metadata": {},
   "outputs": [],
   "source": []
  }
 ],
 "metadata": {
  "kernelspec": {
   "display_name": "Python 3 (ipykernel)",
   "language": "python",
   "name": "python3"
  },
  "language_info": {
   "codemirror_mode": {
    "name": "ipython",
    "version": 3
   },
   "file_extension": ".py",
   "mimetype": "text/x-python",
   "name": "python",
   "nbconvert_exporter": "python",
   "pygments_lexer": "ipython3",
   "version": "3.10.12"
  }
 },
 "nbformat": 4,
 "nbformat_minor": 5
}
