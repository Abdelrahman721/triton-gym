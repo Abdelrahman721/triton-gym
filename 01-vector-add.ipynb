{
  "cells": [
    {
      "cell_type": "markdown",
      "metadata": {},
      "source": [
        "\n",
        "# Vector Addition\n",
        "\n",
        "In this tutorial, you will write a simple vector addition using Triton.\n",
        "\n",
        "In doing so, you will learn about:\n",
        "\n",
        "* The basic programming model of Triton.\n",
        "\n",
        "* The `triton.jit` decorator, which is used to define Triton kernels.\n",
        "\n",
        "* The best practices for validating and benchmarking your custom ops against native reference implementations.\n"
      ]
    },
    {
      "cell_type": "markdown",
      "metadata": {},
      "source": [
        "## Compute Kernel\n",
        "\n"
      ]
    },
    {
      "cell_type": "code",
      "execution_count": null,
      "metadata": {
        "collapsed": false
      },
      "outputs": [],
      "source": [
        "import torch\n",
        "\n",
        "import triton\n",
        "import triton.language as tl\n",
        "\n",
        "DEVICE = triton.runtime.driver.active.get_active_torch_device()\n",
        "\n",
        "@triton.jit\n",
        "def add_kernel(x_ptr,  # *Pointer* to first input vector.\n",
        "               y_ptr,  # *Pointer* to second input vector.\n",
        "               output_ptr,  # *Pointer* to output vector.\n",
        "               n_elements,  # Size of the vector.\n",
        "               BLOCK_SIZE: tl.constexpr,  # Number of elements each program should process.\n",
        "               # NOTE: `constexpr` so it can be used as a shape value.\n",
        "               ):\n",
        "    # There are multiple 'programs' processing different data. We identify which program\n",
        "    # we are here:\n",
        "    pid = tl.program_id(axis=0)  # We use a 1D launch grid so axis is 0.\n",
        "    # This program will process inputs that are offset from the initial data.\n",
        "    # For instance, if you had a vector of length 256 and block_size of 64, the programs\n",
        "    # would each access the elements [0:64, 64:128, 128:192, 192:256].\n",
        "    # Note that offsets is a list of pointers:\n",
        "    block_start = pid * BLOCK_SIZE\n",
        "    offsets = block_start + tl.arange(0, BLOCK_SIZE)\n",
        "    # Create a mask to guard memory operations against out-of-bounds accesses.\n",
        "    mask = offsets < n_elements\n",
        "    # Load x and y from DRAM, masking out any extra elements in case the input is not a\n",
        "    # multiple of the block size.\n",
        "    x = tl.load(x_ptr + offsets, mask=mask)\n",
        "    y = tl.load(y_ptr + offsets, mask=mask)\n",
        "    output = x + y\n",
        "    # Write x + y back to DRAM.\n",
        "    tl.store(output_ptr + offsets, output, mask=mask)\n",
        "\n",
        "#TODO: Does the following api suggest that we can load non-contiguous tensors?\n",
        "# x = tl.load(x_ptr + offsets, mask=mask)\n",
        "# y = tl.load(y_ptr + offsets, mask=mask)"
      ]
    },
    {
      "cell_type": "markdown",
      "metadata": {},
      "source": [
        "Let's also declare a helper function to (1) allocate the `z` tensor\n",
        "and (2) enqueue the above kernel with appropriate grid/block sizes:\n",
        "\n"
      ]
    },
    {
      "cell_type": "code",
      "execution_count": 5,
      "metadata": {
        "collapsed": false
      },
      "outputs": [],
      "source": [
        "def add(x: torch.Tensor, y: torch.Tensor):\n",
        "    # We need to preallocate the output.\n",
        "    output = torch.empty_like(x)\n",
        "    assert x.device == DEVICE and y.device == DEVICE and output.device == DEVICE\n",
        "    n_elements = output.numel()\n",
        "    # The SPMD launch grid denotes the number of kernel instances that run in parallel.\n",
        "    # It is analogous to CUDA launch grids. It can be either Tuple[int], or Callable(metaparameters) -> Tuple[int].\n",
        "    # In this case, we use a 1D grid where the size is the number of blocks:\n",
        "    grid = lambda meta: (triton.cdiv(n_elements, meta['BLOCK_SIZE']), )\n",
        "    # NOTE:\n",
        "    #  - Each torch.tensor object is implicitly converted into a pointer to its first element.\n",
        "    #  - `triton.jit`'ed functions can be indexed with a launch grid to obtain a callable GPU kernel.\n",
        "    #  - Don't forget to pass meta-parameters as keywords arguments.\n",
        "    add_kernel[grid](x, y, output, n_elements, BLOCK_SIZE=1024)\n",
        "    # We return a handle to z but, since `torch.cuda.synchronize()` hasn't been called, the kernel is still\n",
        "    # running asynchronously at this point.\n",
        "    return output\n",
        "\n",
        "# So, in order to run the kernel, we:\n",
        "# 1. define the kernel that does the computation:\n",
        "    # laod the input tensors from DRAM,\n",
        "    # compute the offests for each program,\n",
        "    # create a mask to guard against out-of-bounds accesses,\n",
        "    # compute the output,\n",
        "    # write the output back to DRAM. \n",
        "# 2. define a function that preallocates the output tensor, and defines the launch grid\n",
        "# 3. call the jitted function with the launch grid (to obtain a gpu-callable kernel)\n",
        "    # pass the kernel params."
      ]
    },
    {
      "cell_type": "markdown",
      "metadata": {},
      "source": [
        "We can now use the above function to compute the element-wise sum of two `torch.tensor` objects and test its correctness:\n",
        "\n"
      ]
    },
    {
      "cell_type": "code",
      "execution_count": 6,
      "metadata": {
        "collapsed": false
      },
      "outputs": [
        {
          "name": "stdout",
          "output_type": "stream",
          "text": [
            "tensor([1.3713, 1.3076, 0.4940,  ..., 0.6724, 1.2141, 0.9733], device='cuda:0')\n",
            "tensor([1.3713, 1.3076, 0.4940,  ..., 0.6724, 1.2141, 0.9733], device='cuda:0')\n",
            "The maximum difference between torch and triton is 0.0\n"
          ]
        }
      ],
      "source": [
        "torch.manual_seed(0)\n",
        "size = 98432\n",
        "x = torch.rand(size, device=DEVICE)\n",
        "y = torch.rand(size, device=DEVICE)\n",
        "output_torch = x + y\n",
        "output_triton = add(x, y)\n",
        "print(output_torch)\n",
        "print(output_triton)\n",
        "print(f'The maximum difference between torch and triton is '\n",
        "      f'{torch.max(torch.abs(output_torch - output_triton))}')"
      ]
    },
    {
      "cell_type": "markdown",
      "metadata": {},
      "source": [
        "Seems like we're good to go!\n",
        "\n"
      ]
    },
    {
      "cell_type": "markdown",
      "metadata": {},
      "source": [
        "## Benchmark\n",
        "\n",
        "We can now benchmark our custom op on vectors of increasing sizes to get a sense of how it does relative to PyTorch.\n",
        "To make things easier, Triton has a set of built-in utilities that allow us to concisely plot the performance of our custom ops.\n",
        "for different problem sizes.\n",
        "\n"
      ]
    },
    {
      "cell_type": "code",
      "execution_count": 7,
      "metadata": {
        "collapsed": false
      },
      "outputs": [],
      "source": [
        "@triton.testing.perf_report(\n",
        "    triton.testing.Benchmark(\n",
        "        x_names=['size'],  # Argument names to use as an x-axis for the plot.\n",
        "        x_vals=[2**i for i in range(12, 28, 1)],  # Different possible values for `x_name`.\n",
        "        x_log=True,  # x axis is logarithmic.\n",
        "        line_arg='provider',  # Argument name whose value corresponds to a different line in the plot.\n",
        "        line_vals=['triton', 'torch'],  # Possible values for `line_arg`.\n",
        "        line_names=['Triton', 'Torch'],  # Label name for the lines.\n",
        "        styles=[('blue', '-'), ('green', '-')],  # Line styles.\n",
        "        ylabel='GB/s',  # Label name for the y-axis.\n",
        "        plot_name='vector-add-performance',  # Name for the plot. Used also as a file name for saving the plot.\n",
        "        args={},  # Values for function arguments not in `x_names` and `y_name`.\n",
        "    ))\n",
        "def benchmark(size, provider):\n",
        "    x = torch.rand(size, device=DEVICE, dtype=torch.float32)\n",
        "    y = torch.rand(size, device=DEVICE, dtype=torch.float32)\n",
        "    quantiles = [0.5, 0.2, 0.8]\n",
        "    if provider == 'torch':\n",
        "        ms, min_ms, max_ms = triton.testing.do_bench(lambda: x + y, quantiles=quantiles)\n",
        "    if provider == 'triton':\n",
        "        ms, min_ms, max_ms = triton.testing.do_bench(lambda: add(x, y), quantiles=quantiles)\n",
        "    gbps = lambda ms: 3 * x.numel() * x.element_size() * 1e-9 / (ms * 1e-3)\n",
        "    return gbps(ms), gbps(max_ms), gbps(min_ms)"
      ]
    },
    {
      "cell_type": "markdown",
      "metadata": {},
      "source": [
        "We can now run the decorated function above. Pass `print_data=True` to see the performance number, `show_plots=True` to plot them, and/or\n",
        "`save_path='/path/to/results/' to save them to disk along with raw CSV data:\n",
        "\n"
      ]
    },
    {
      "cell_type": "code",
      "execution_count": 10,
      "metadata": {
        "collapsed": false
      },
      "outputs": [
        {
          "data": {
            "image/png": "[encoded data removed]",
            "text/plain": [
              "<Figure size 640x480 with 1 Axes>"
            ]
          },
          "metadata": {},
          "output_type": "display_data"
        },
        {
          "name": "stdout",
          "output_type": "stream",
          "text": [
            "vector-add-performance:\n",
            "           size      Triton       Torch\n",
            "0        4096.0   12.000000   12.000000\n",
            "1        8192.0   24.000000   24.000000\n",
            "2       16384.0   48.000000   48.000000\n",
            "3       32768.0   78.769233   78.267515\n",
            "4       65536.0  153.600004  153.600004\n",
            "5      131072.0  255.999991  255.999991\n",
            "6      262144.0  384.000001  433.057275\n",
            "7      524288.0  558.545450  558.545450\n",
            "8     1048576.0  682.666643  682.666643\n",
            "9     2097152.0  768.000002  768.000002\n",
            "10    4194304.0  807.632331  819.200021\n",
            "11    8388608.0  840.205105  840.205105\n",
            "12   16777216.0  858.550228  858.550228\n",
            "13   33554432.0  868.026517  866.114550\n",
            "14   67108864.0  870.910292  871.875832\n",
            "15  134217728.0  871.875832  874.299074\n"
          ]
        }
      ],
      "source": [
        "benchmark.run(print_data=True, show_plots=True)"
      ]
    },
    {
      "cell_type": "code",
      "execution_count": null,
      "metadata": {},
      "outputs": [],
      "source": []
    }
  ],
  "metadata": {
    "kernelspec": {
      "display_name": "Python (uv)",
      "language": "python",
      "name": "uv-env"
    },
    "language_info": {
      "codemirror_mode": {
        "name": "ipython",
        "version": 3
      },
      "file_extension": ".py",
      "mimetype": "text/x-python",
      "name": "python",
      "nbconvert_exporter": "python",
      "pygments_lexer": "ipython3",
      "version": "3.10.12"
    }
  },
  "nbformat": 4,
  "nbformat_minor": 0
}
