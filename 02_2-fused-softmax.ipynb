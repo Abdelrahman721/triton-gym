{
 "cells": [
  {
   "cell_type": "code",
   "execution_count": 4,
   "id": "997596dc",
   "metadata": {},
   "outputs": [],
   "source": [
    "import triton\n",
    "import triton.language as tl\n",
    "import torch"
   ]
  },
  {
   "cell_type": "markdown",
   "id": "727cdf48",
   "metadata": {},
   "source": [
    "### Compute Kernel"
   ]
  },
  {
   "cell_type": "code",
   "execution_count": null,
   "id": "f3b461f0",
   "metadata": {},
   "outputs": [],
   "source": [
    "@triton.jit\n",
    "def softmax_kernel(a_ptr,\n",
    "                   b_ptr,\n",
    "                   n_rows,\n",
    "                   n_cols,\n",
    "                   a_row_stride,\n",
    "                   b_row_stride,\n",
    "                   BLOCK_SIZE: tl.constexpr, #BLOCK_SIZE is the next pwr of 2 larger than n_cols\n",
    "                   num_stages: tl.constexpr,\n",
    "                   ):\n",
    "    row_start  = tl.program_id(0)\n",
    "    row_stride = tl.num_programs(0)\n",
    "\n",
    "    for row in tl.range(row_start, n_rows, row_stride, num_stages=num_stages):\n",
    "        offsets   = tl.arange(0, BLOCK_SIZE)\n",
    "        start_ptr = a_ptr + row * a_row_stride\n",
    "        ptrs_mask = offsets < n_cols\n",
    "        curr_row  = tl.load((start_ptr + offsets), mask=ptrs_mask, other=-float(\"inf\"))\n",
    "\n",
    "        row_minus_max = curr_row - tl.max(curr_row, axis=0)\n",
    "        row_exp       = tl.exp(row_minus_max)\n",
    "        row_norm      = row_exp / tl.sum(row_exp, axis=0)\n",
    "\n",
    "        b_offsets = tl.arange(0, BLOCK_SIZE)\n",
    "        b_start   = b_ptr + row * b_row_stride\n",
    "        b_mask    = b_offsets < n_cols\n",
    "        tl.store((b_start + b_offsets), row_norm, mask=b_mask)"
   ]
  },
  {
   "cell_type": "markdown",
   "id": "26f320e3",
   "metadata": {},
   "source": [
    "### Kernel Caller"
   ]
  },
  {
   "cell_type": "code",
   "execution_count": null,
   "id": "6c73e737",
   "metadata": {},
   "outputs": [
    {
     "name": "stdout",
     "output_type": "stream",
     "text": [
      "Device: cuda:0\n",
      "Properties: {'max_shared_mem': 101376, 'max_num_regs': 65536, 'multiprocessor_count': 82, 'warpSize': 32, 'sm_clock_rate': 1695000, 'mem_clock_rate': 9751000, 'mem_bus_width': 384}\n",
      "Number of SMs: 82\n",
      "Number of registers: 65536\n",
      "Size of shared memory: 101376\n",
      "Warp size: 32\n",
      "Target: GPUTarget(backend='cuda', arch=86, warp_size=32)\n"
     ]
    }
   ],
   "source": [
    "DEVICE     = triton.runtime.driver.active.get_active_torch_device()\n",
    "properties = triton.runtime.driver.active.utils.get_device_properties(DEVICE.index)\n",
    "NUM_SM     = properties[\"multiprocessor_count\"]\n",
    "NUM_REGS   = properties[\"max_num_regs\"]\n",
    "SIZE_SMEM  = properties[\"max_shared_mem\"]\n",
    "WARP_SIZE  = properties[\"warpSize\"]\n",
    "target     = triton.runtime.driver.active.get_current_target()\n",
    "kernels    = {}\n",
    "\n",
    "# Print all of the above variables\n",
    "print(f\"Device: {DEVICE}\")\n",
    "print(f\"Properties: {properties}\")\n",
    "print(f\"Number of SMs: {NUM_SM}\")\n",
    "print(f\"Number of registers: {NUM_REGS}\")\n",
    "print(f\"Size of shared memory: {SIZE_SMEM}\")\n",
    "print(f\"Warp size: {WARP_SIZE}\")\n",
    "print(f\"Target: {target}\")\n",
    "\n",
    "def softmax(a: torch.Tensor) -> torch.Tensor:\n",
    "    b = torch.empty_like(a)\n",
    "    \n",
    "    # To be autotuned in coming tutorials\n",
    "    BLOCK_SIZE = triton.next_power_of_2(b.shape[1])\n",
    "    num_stages = 4 if SIZE_SMEM > 200000 else 2\n",
    "    num_warps  = 8\n",
    "\n",
    "    kernel = softmax_kernel.warmup(a, b,\n",
    "                                   a.shape[0], a.shape[1],\n",
    "                                   a.stride(0), b.stride(0),\n",
    "                                   BLOCK_SIZE=BLOCK_SIZE,\n",
    "                                   num_stages=num_stages,\n",
    "                                   num_warps =num_warps,\n",
    "                                   grid=(1, ),\n",
    "                                   )\n",
    "    kernel._init_handles()\n",
    "    n_regs = kernel.n_regs             # num of regs each thread will use\n",
    "    size_smem = kernel.metadata.shared # amount of smem each thread block will use\n",
    "    \n",
    "    reg_occupancy  = NUM_REGS // (n_regs * WARP_SIZE * num_warps)\n",
    "    smem_occupancy = SIZE_SMEM // size_smem\n",
    "    occupancy      = min(reg_occupancy, smem_occupancy)\n",
    "\n",
    "    num_programs = min(occupancy * NUM_SM, a.shape[0])\n",
    "    kernel[(num_programs, 1, 1)](a, b,\n",
    "                                 a.shape[0], a.shape[1],\n",
    "                                 a.stride(0), b.stride(0),\n",
    "                                 BLOCK_SIZE,\n",
    "                                 num_stages\n",
    "                                 )\n",
    "    return b"
   ]
  },
  {
   "cell_type": "markdown",
   "id": "e9636868",
   "metadata": {},
   "source": [
    "### Naive Softmax"
   ]
  },
  {
   "cell_type": "code",
   "execution_count": 57,
   "id": "ed2e6e30",
   "metadata": {},
   "outputs": [],
   "source": [
    "def naive_softmax(x: torch.Tensor) -> torch.Tensor:\n",
    "    x_max = x.max(dim=1)[0]\n",
    "    z = x - x_max[:, None]\n",
    "    numerator = torch.exp(z)\n",
    "    denominator = numerator.sum(dim=1)\n",
    "    ret = numerator / denominator[:, None]\n",
    "    return ret"
   ]
  },
  {
   "cell_type": "markdown",
   "id": "28b9f554",
   "metadata": {},
   "source": [
    "### Unit Test"
   ]
  },
  {
   "cell_type": "code",
   "execution_count": 58,
   "id": "d0055185",
   "metadata": {},
   "outputs": [
    {
     "name": "stdout",
     "output_type": "stream",
     "text": [
      "tensor([[0.0002, 0.0004, 0.0019,  ..., 0.0017, 0.0005, 0.0004],\n",
      "        [0.0005, 0.0002, 0.0024,  ..., 0.0006, 0.0011, 0.0009],\n",
      "        [0.0005, 0.0002, 0.0021,  ..., 0.0006, 0.0003, 0.0005],\n",
      "        ...,\n",
      "        [0.0012, 0.0003, 0.0008,  ..., 0.0013, 0.0002, 0.0009],\n",
      "        [0.0075, 0.0005, 0.0203,  ..., 0.0055, 0.0013, 0.0030],\n",
      "        [0.0006, 0.0004, 0.0003,  ..., 0.0006, 0.0005, 0.0008]],\n",
      "       device='cuda:0')\n",
      "----------------------------------------------\n",
      "tensor([[0.0002, 0.0004, 0.0019,  ..., 0.0017, 0.0005, 0.0004],\n",
      "        [0.0005, 0.0002, 0.0024,  ..., 0.0006, 0.0011, 0.0009],\n",
      "        [0.0005, 0.0002, 0.0021,  ..., 0.0006, 0.0003, 0.0005],\n",
      "        ...,\n",
      "        [0.0012, 0.0003, 0.0008,  ..., 0.0013, 0.0002, 0.0009],\n",
      "        [0.0075, 0.0005, 0.0203,  ..., 0.0055, 0.0013, 0.0030],\n",
      "        [0.0006, 0.0004, 0.0003,  ..., 0.0006, 0.0005, 0.0008]],\n",
      "       device='cuda:0')\n"
     ]
    }
   ],
   "source": [
    "a = torch.randn((8192, 768), device=DEVICE)\n",
    "\n",
    "b1 = torch.softmax(a, axis=1)\n",
    "b2 = softmax(a)\n",
    "\n",
    "print(b1)\n",
    "print(\"----------------------------------------------\")\n",
    "print(b2)\n",
    "\n",
    "triton.testing.assert_close(b1, b2)"
   ]
  },
  {
   "cell_type": "markdown",
   "id": "f42a3b46",
   "metadata": {},
   "source": [
    "### Benchmark"
   ]
  },
  {
   "cell_type": "code",
   "execution_count": 59,
   "id": "e5b5e4b9",
   "metadata": {},
   "outputs": [
    {
     "data": {
      "image/png": "[encoded data removed]",
      "text/plain": [
       "<Figure size 640x480 with 1 Axes>"
      ]
     },
     "metadata": {},
     "output_type": "display_data"
    },
    {
     "name": "stdout",
     "output_type": "stream",
     "text": [
      "Triton vs. Torch:\n",
      "       cols      triton       torch\n",
      "0     256.0  354.055389  658.311218\n",
      "1     384.0  563.771530  721.198560\n",
      "2     512.0  638.346834  701.966511\n",
      "3     640.0  697.423494  727.424625\n",
      "4     768.0  727.668550  754.109476\n",
      "5     896.0  749.822214  771.976180\n",
      "6    1024.0  764.247381  788.284478\n",
      "7    1152.0  747.248815  378.393843\n",
      "8    1280.0  767.184553  420.512778\n",
      "9    1408.0  783.434100  456.038240\n",
      "10   1536.0  790.676921  489.785760\n",
      "11   1664.0  791.791811  510.611720\n",
      "12   1792.0  791.090103  541.320339\n",
      "13   1920.0  794.583805  561.829522\n",
      "14   2048.0  791.974704  603.753689\n",
      "15   2176.0  751.872624  607.430008\n",
      "16   2304.0  763.160145  640.620278\n",
      "17   2432.0  772.110811  668.623672\n",
      "18   2560.0  773.918340  688.589495\n",
      "19   2688.0  779.910757  697.828392\n",
      "20   2816.0  785.915912  718.893025\n",
      "21   2944.0  789.680374  735.914008\n",
      "22   3072.0  794.281009  747.938953\n",
      "23   3200.0  800.764377  764.670864\n",
      "24   3328.0  808.743799  779.065040\n",
      "25   3456.0  811.754837  785.197516\n",
      "26   3584.0  811.774850  796.976300\n",
      "27   3712.0  814.175624  802.667429\n",
      "28   3840.0  815.906811  813.701254\n",
      "29   3968.0  817.460511  820.186156\n",
      "30   4096.0  814.844296  828.209057\n",
      "31   4224.0  834.905706  745.635864\n",
      "32   4352.0  834.902463  762.320448\n",
      "33   4480.0  836.144018  737.638523\n",
      "34   4608.0  835.296167  756.860135\n",
      "35   4736.0  835.777237  755.516474\n",
      "36   4864.0  837.146072  782.841034\n",
      "37   4992.0  836.555584  786.208327\n",
      "38   5120.0  837.505316  803.803286\n",
      "39   5248.0  838.373339  805.398189\n",
      "40   5376.0  838.258758  818.822013\n",
      "41   5504.0  839.042190  826.778839\n",
      "42   5632.0  838.836912  832.147189\n",
      "43   5760.0  839.003128  836.498784\n",
      "44   5888.0  839.056801  842.508149\n",
      "45   6016.0  841.229798  849.043898\n",
      "46   6144.0  838.733326  845.221194\n",
      "47   6272.0  840.861589  845.123577\n",
      "48   6400.0  841.851207  842.024979\n",
      "49   6528.0  841.942771  841.744785\n",
      "50   6656.0  841.446405  842.784565\n",
      "51   6784.0  841.246050  841.818188\n",
      "52   6912.0  839.923014  841.255123\n",
      "53   7040.0  843.002495  842.340294\n",
      "54   7168.0  842.927444  842.012042\n",
      "55   7296.0  842.499449  841.661795\n",
      "56   7424.0  842.381524  842.251422\n",
      "57   7552.0  841.604307  842.161269\n",
      "58   7680.0  841.679754  842.440229\n",
      "59   7808.0  842.840903  843.522046\n",
      "60   7936.0  842.502644  842.686907\n",
      "61   8064.0  843.547834  839.844034\n",
      "62   8192.0  839.848918  842.578024\n",
      "63   8320.0  823.111691  836.289654\n",
      "64   8448.0  823.211265  839.253642\n",
      "65   8576.0  822.551215  836.084995\n",
      "66   8704.0  824.791204  838.748175\n",
      "67   8832.0  823.941578  835.502348\n",
      "68   8960.0  822.399664  836.407046\n",
      "69   9088.0  824.631417  837.021777\n",
      "70   9216.0  824.285956  839.451859\n",
      "71   9344.0  824.026964  839.154467\n",
      "72   9472.0  824.286404  840.074132\n",
      "73   9600.0  822.625259  840.289954\n",
      "74   9728.0  824.294731  840.825684\n",
      "75   9856.0  824.813964  841.960323\n",
      "76   9984.0  822.951808  843.960489\n",
      "77  10112.0  822.930398  841.794990\n",
      "78  10240.0  823.016685  842.404993\n",
      "79  10368.0  821.954598  843.660178\n",
      "80  10496.0  824.553216  843.011974\n",
      "81  10624.0  823.437814  843.301329\n",
      "82  10752.0  821.033106  844.849453\n",
      "83  10880.0  823.503623  844.720357\n",
      "84  11008.0  825.010997  845.321143\n",
      "85  11136.0  822.294547  845.725598\n",
      "86  11264.0  822.691838  847.227047\n",
      "87  11392.0  820.492930  846.832181\n",
      "88  11520.0  821.531736  847.116053\n",
      "89  11648.0  822.548657  846.945470\n",
      "90  11776.0  821.817569  847.832855\n",
      "91  11904.0  822.768365  848.164794\n",
      "92  12032.0  822.306277  848.032615\n",
      "93  12160.0  823.062474  848.673365\n",
      "94  12288.0  823.348996  823.081829\n",
      "95  12416.0  820.752092  733.786927\n",
      "96  12544.0  820.348900  733.889577\n",
      "97  12672.0  820.311748  715.734473\n"
     ]
    }
   ],
   "source": [
    "@triton.testing.perf_report(\n",
    "    triton.testing.Benchmark(\n",
    "        x_names    = [\"cols\"],\n",
    "        x_vals     = [128 * i for i in range(2, 100)],\n",
    "        line_arg   = \"provider\",\n",
    "        line_vals  = [\"triton\", \"torch\"],\n",
    "        line_names = [\"triton\", \"torch\"],\n",
    "        plot_name  = \"Triton vs. Torch\",\n",
    "        args       = {},\n",
    "        x_log      = True\n",
    "    )\n",
    ")\n",
    "def benchmark(cols, provider):\n",
    "    a = torch.randn((4096, cols), device=DEVICE)\n",
    "    if provider == \"torch\":\n",
    "        ms = triton.testing.do_bench(lambda: torch.softmax(a, axis=-1))\n",
    "    else:\n",
    "        ms = triton.testing.do_bench(lambda: softmax(a))\n",
    "    return (a.numel() * a.element_size() * 2 * 1e-9) / (ms * 1e-3)\n",
    "\n",
    "benchmark.run(show_plots=True, print_data=True)\n",
    "    "
   ]
  },
  {
   "cell_type": "code",
   "execution_count": null,
   "id": "64517218",
   "metadata": {},
   "outputs": [],
   "source": []
  }
 ],
 "metadata": {
  "kernelspec": {
   "display_name": "Python 3 (ipykernel)",
   "language": "python",
   "name": "python3"
  },
  "language_info": {
   "codemirror_mode": {
    "name": "ipython",
    "version": 3
   },
   "file_extension": ".py",
   "mimetype": "text/x-python",
   "name": "python",
   "nbconvert_exporter": "python",
   "pygments_lexer": "ipython3",
   "version": "3.10.12"
  }
 },
 "nbformat": 4,
 "nbformat_minor": 5
}
