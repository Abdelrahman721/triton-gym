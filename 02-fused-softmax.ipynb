{
  "cells": [
    {
      "cell_type": "markdown",
      "metadata": {},
      "source": [
        "\n",
        "# Fused Softmax\n",
        "\n",
        "In this tutorial, you will write a fused softmax operation that is significantly faster\n",
        "than PyTorch's native op for a particular class of matrices: those whose rows can fit in\n",
        "the GPU's SRAM.\n",
        "\n",
        "In doing so, you will learn about:\n",
        "\n",
        "* The benefits of kernel fusion for bandwidth-bound operations.\n",
        "\n",
        "* Reduction operators in Triton.\n"
      ]
    },
    {
      "cell_type": "markdown",
      "metadata": {},
      "source": [
        "## Motivations\n",
        "\n",
        "Custom GPU kernels for elementwise additions are educationally valuable but won't get you very far in practice.\n",
        "Let us consider instead the case of a simple (numerically stabilized) softmax operation:\n",
        "\n"
      ]
    },
    {
      "cell_type": "code",
      "execution_count": 2,
      "metadata": {
        "collapsed": false
      },
      "outputs": [],
      "source": [
        "import torch\n",
        "\n",
        "import triton\n",
        "import triton.language as tl\n",
        "from triton.runtime import driver\n",
        "\n",
        "DEVICE = triton.runtime.driver.active.get_active_torch_device()\n",
        "\n",
        "\n",
        "def is_hip():\n",
        "    return triton.runtime.driver.active.get_current_target().backend == \"hip\"\n",
        "\n",
        "\n",
        "def is_cdna():\n",
        "    return is_hip() and triton.runtime.driver.active.get_current_target().arch in ('gfx940', 'gfx941', 'gfx942',\n",
        "                                                                                   'gfx90a', 'gfx908')\n",
        "\n",
        "\n",
        "def naive_softmax(x):\n",
        "    \"\"\"Compute row-wise softmax of X using native pytorch\n",
        "\n",
        "    We subtract the maximum element in order to avoid overflows. Softmax is invariant to\n",
        "    this shift.\n",
        "    \"\"\"\n",
        "    # read  MN elements ; write M  elements\n",
        "    x_max = x.max(dim=1)[0]\n",
        "    # read MN + M elements ; write MN elements\n",
        "    z = x - x_max[:, None]\n",
        "    # read  MN elements ; write MN elements\n",
        "    numerator = torch.exp(z)\n",
        "    # read  MN elements ; write M  elements\n",
        "    denominator = numerator.sum(dim=1)\n",
        "    # read MN + M elements ; write MN elements\n",
        "    ret = numerator / denominator[:, None]\n",
        "    # in total: read 5MN + 2M elements ; wrote 3MN + 2M elements\n",
        "    return ret\n",
        "\n",
        "# TODO: It is good to reason about the number of reads and writes in a kernel.\n",
        "# in terms of the dimensions of the operands. Try to think carefully about what\n",
        "# each line of code is doing."
      ]
    },
    {
      "cell_type": "markdown",
      "metadata": {},
      "source": [
        "When implemented naively in PyTorch, computing :code:`y = naive_softmax(x)` for $x \\in R^{M \\times N}$\n",
        "requires reading $5MN + 2M$ elements from DRAM and writing back $3MN + 2M$ elements.\n",
        "This is obviously wasteful; we'd prefer to have a custom \"fused\" kernel that only reads\n",
        "X once and does all the necessary computations on-chip.\n",
        "Doing so would require reading and writing back only $MN$ bytes, so we could\n",
        "expect a theoretical speed-up of ~4x (i.e., $(8MN + 4M) / 2MN$).\n",
        "The `torch.jit.script` flags aims to perform this kind of \"kernel fusion\" automatically\n",
        "but, as we will see later, it is still far from ideal.\n",
        "\n"
      ]
    },
    {
      "cell_type": "markdown",
      "metadata": {},
      "source": [
        "## Compute Kernel\n",
        "\n",
        "Our softmax kernel works as follows: each program loads a set of rows of the input matrix X strided by number of programs,\n",
        "normalizes it and writes back the result to the output Y.\n",
        "\n",
        "Note that one important limitation of Triton is that each block must have a\n",
        "power-of-two number of elements, so we need to internally \"pad\" each row and guard the\n",
        "memory operations properly if we want to handle any possible input shapes:\n",
        "\n"
      ]
    },
    {
      "cell_type": "code",
      "execution_count": 9,
      "metadata": {
        "collapsed": false
      },
      "outputs": [],
      "source": [
        "@triton.jit\n",
        "def softmax_kernel(output_ptr, input_ptr, input_row_stride, output_row_stride, n_rows, n_cols, BLOCK_SIZE: tl.constexpr,\n",
        "                   num_stages: tl.constexpr):\n",
        "    # starting row of the program\n",
        "    row_start = tl.program_id(0)\n",
        "    row_step = tl.num_programs(0)\n",
        "    for row_idx in tl.range(row_start, n_rows, row_step, num_stages=num_stages):\n",
        "        # The stride represents how much we need to increase the pointer to advance 1 row\n",
        "        row_start_ptr = input_ptr + row_idx * input_row_stride\n",
        "        # The block size is the next power of two greater than n_cols, so we can fit each\n",
        "        # row in a single block\n",
        "        col_offsets = tl.arange(0, BLOCK_SIZE)\n",
        "        input_ptrs = row_start_ptr + col_offsets\n",
        "        # Load the row into SRAM, using a mask since BLOCK_SIZE may be > than n_cols\n",
        "        mask = col_offsets < n_cols\n",
        "        row = tl.load(input_ptrs, mask=mask, other=-float('inf'))\n",
        "        # Subtract maximum for numerical stability\n",
        "        row_minus_max = row - tl.max(row, axis=0)\n",
        "        # Note that exponentiation in Triton is fast but approximate (i.e., think __expf in CUDA)\n",
        "        numerator = tl.exp(row_minus_max)\n",
        "        denominator = tl.sum(numerator, axis=0)\n",
        "        softmax_output = numerator / denominator\n",
        "        # Write back output to DRAM\n",
        "        output_row_start_ptr = output_ptr + row_idx * output_row_stride\n",
        "        output_ptrs = output_row_start_ptr + col_offsets\n",
        "        tl.store(output_ptrs, softmax_output, mask=mask)"
      ]
    },
    {
      "cell_type": "markdown",
      "metadata": {},
      "source": [
        "We can create a helper function that enqueues the kernel and its (meta-)arguments for any given input tensor.\n",
        "\n"
      ]
    },
    {
      "cell_type": "code",
      "execution_count": 28,
      "metadata": {
        "collapsed": false
      },
      "outputs": [
        {
          "name": "stdout",
          "output_type": "stream",
          "text": [
            "Device: cuda:0, Number of SMs: 82, Number of Registers: 65536, Size of SMEM: 101376, Warp Size: 32, Target: GPUTarget(backend='cuda', arch=86, warp_size=32)\n"
          ]
        }
      ],
      "source": [
        "properties = driver.active.utils.get_device_properties(DEVICE.index)\n",
        "NUM_SM = properties[\"multiprocessor_count\"]\n",
        "NUM_REGS = properties[\"max_num_regs\"]\n",
        "SIZE_SMEM = properties[\"max_shared_mem\"]\n",
        "WARP_SIZE = properties[\"warpSize\"]\n",
        "target = triton.runtime.driver.active.get_current_target()\n",
        "kernels = {}\n",
        "\n",
        "# Print the above variables\n",
        "print(f\"Device: {DEVICE}, Number of SMs: {NUM_SM}, Number of Registers: {NUM_REGS}, Size of SMEM: {SIZE_SMEM}, Warp Size: {WARP_SIZE}, Target: {target}\")\n",
        "\n",
        "\n",
        "def softmax(x):\n",
        "    n_rows, n_cols = x.shape\n",
        "\n",
        "    # The block size of each loop iteration is the smallest power of two greater than the number of columns in `x`\n",
        "    BLOCK_SIZE = triton.next_power_of_2(n_cols)\n",
        "\n",
        "    # Another trick we can use is to ask the compiler to use more threads per row by\n",
        "    # increasing the number of warps (`num_warps`) over which each row is distributed.\n",
        "    # You will see in the next tutorial how to auto-tune this value in a more natural\n",
        "    # way so you don't have to come up with manual heuristics yourself.\n",
        "    num_warps = 8\n",
        "\n",
        "    # Number of software pipelining stages.\n",
        "    num_stages = 4 if SIZE_SMEM > 200000 else 2\n",
        "\n",
        "    # Allocate output\n",
        "    y = torch.empty_like(x)\n",
        "\n",
        "    # pre-compile kernel to get register usage and compute thread occupancy.\n",
        "    kernel = softmax_kernel.warmup(y, x, x.stride(0), y.stride(0), n_rows, n_cols, BLOCK_SIZE=BLOCK_SIZE,\n",
        "                                   num_stages=num_stages, num_warps=num_warps, grid=(1, ))\n",
        "    kernel._init_handles()\n",
        "    n_regs = kernel.n_regs\n",
        "    size_smem = kernel.metadata.shared\n",
        "    if is_hip():\n",
        "        # NUM_REGS represents the number of regular purpose registers. On CDNA architectures this is half of all registers available.\n",
        "        # However, this is not always the case. In most cases all registers can be used as regular purpose registers.\n",
        "        # ISA SECTION (3.6.4 for CDNA3)\n",
        "        # VGPRs are allocated out of two pools: regular VGPRs and accumulation VGPRs. Accumulation VGPRs are used\n",
        "        # with matrix VALU instructions, and can also be loaded directly from memory. A wave may have up to 512 total\n",
        "        # VGPRs, 256 of each type. When a wave has fewer than 512 total VGPRs, the number of each type is flexible - it is\n",
        "        # not required to be equal numbers of both types.\n",
        "        NUM_GPRS = NUM_REGS\n",
        "        if is_cdna():\n",
        "            NUM_GPRS = NUM_REGS * 2\n",
        "\n",
        "        # MAX_NUM_THREADS represents maximum number of resident threads per multi-processor.\n",
        "        # When we divide this number with WARP_SIZE we get maximum number of waves that can\n",
        "        # execute on a CU (multi-processor)  in parallel.\n",
        "        MAX_NUM_THREADS = properties[\"max_threads_per_sm\"]\n",
        "        max_num_waves = MAX_NUM_THREADS // WARP_SIZE\n",
        "        occupancy = min(NUM_GPRS // WARP_SIZE // n_regs, max_num_waves) // num_warps\n",
        "    else:\n",
        "        occupancy = NUM_REGS // (n_regs * WARP_SIZE * num_warps)\n",
        "    occupancy = min(occupancy, SIZE_SMEM // size_smem)\n",
        "    num_programs = NUM_SM * occupancy\n",
        "\n",
        "    num_programs = min(num_programs, n_rows)\n",
        "\n",
        "    # Create a number of persistent programs.\n",
        "    kernel[(num_programs, 1, 1)](y, x, x.stride(0), y.stride(0), n_rows, n_cols, BLOCK_SIZE, num_stages)\n",
        "    return y"
      ]
    },
    {
      "cell_type": "markdown",
      "metadata": {},
      "source": [
        "## Unit Test\n",
        "\n"
      ]
    },
    {
      "cell_type": "markdown",
      "metadata": {},
      "source": [
        "We make sure that we test our kernel on a matrix with an irregular number of rows and columns.\n",
        "This will allow us to verify that our padding mechanism works.\n",
        "\n"
      ]
    },
    {
      "cell_type": "code",
      "execution_count": 29,
      "metadata": {
        "collapsed": false
      },
      "outputs": [],
      "source": [
        "torch.manual_seed(0)\n",
        "x = torch.randn(1823, 781, device=DEVICE)\n",
        "y_triton = softmax(x)\n",
        "y_torch = torch.softmax(x, axis=1)\n",
        "assert torch.allclose(y_triton, y_torch), (y_triton, y_torch)"
      ]
    },
    {
      "cell_type": "markdown",
      "metadata": {},
      "source": [
        "As expected, the results are identical.\n",
        "\n"
      ]
    },
    {
      "cell_type": "markdown",
      "metadata": {},
      "source": [
        "## Benchmark\n",
        "\n",
        "Here we will benchmark our operation as a function of the number of columns in the input matrix -- assuming 4096 rows.\n",
        "We will then compare its performance against (1) :code:`torch.softmax` and (2) the :code:`naive_softmax` defined above.\n",
        "\n"
      ]
    },
    {
      "cell_type": "code",
      "execution_count": 30,
      "metadata": {
        "collapsed": false
      },
      "outputs": [
        {
          "data": {
            "image/png": "[encoded data removed]",
            "text/plain": [
              "<Figure size 640x480 with 1 Axes>"
            ]
          },
          "metadata": {},
          "output_type": "display_data"
        },
        {
          "name": "stdout",
          "output_type": "stream",
          "text": [
            "softmax-performance:\n",
            "          N      Triton       Torch\n",
            "0     256.0  363.577314  651.804243\n",
            "1     384.0  544.772849  721.235881\n",
            "2     512.0  649.659768  697.920258\n",
            "3     640.0  702.963977  719.400662\n",
            "4     768.0  729.459287  758.126930\n",
            "5     896.0  756.654089  774.870744\n",
            "6    1024.0  769.560565  787.407593\n",
            "7    1152.0  750.351119  375.453012\n",
            "8    1280.0  772.052326  419.932199\n",
            "9    1408.0  778.477061  454.977196\n",
            "10   1536.0  791.041677  490.647885\n",
            "11   1664.0  791.197903  513.766627\n",
            "12   1792.0  793.775021  543.680642\n",
            "13   1920.0  793.434536  566.644108\n",
            "14   2048.0  792.013371  596.646619\n",
            "15   2176.0  753.265454  611.194015\n",
            "16   2304.0  760.717940  646.431486\n",
            "17   2432.0  767.443997  663.855441\n",
            "18   2560.0  775.939233  691.164642\n",
            "19   2688.0  779.699752  702.223576\n",
            "20   2816.0  783.510448  720.248216\n",
            "21   2944.0  792.939386  735.623158\n",
            "22   3072.0  795.641460  754.197360\n",
            "23   3200.0  801.863135  758.661317\n",
            "24   3328.0  804.141524  779.542861\n",
            "25   3456.0  809.267404  787.560720\n",
            "26   3584.0  817.214340  795.335961\n",
            "27   3712.0  815.342729  800.860350\n",
            "28   3840.0  813.860950  810.340719\n",
            "29   3968.0  815.976635  823.700481\n",
            "30   4096.0  816.031474  829.214658\n",
            "31   4224.0  832.865661  750.331246\n",
            "32   4352.0  832.765343  771.131712\n",
            "33   4480.0  835.758885  742.922981\n",
            "34   4608.0  835.421522  762.702030\n",
            "35   4736.0  837.461731  756.739810\n",
            "36   4864.0  835.276967  781.071512\n",
            "37   4992.0  836.047394  790.318526\n",
            "38   5120.0  835.429979  804.715004\n",
            "39   5248.0  839.284615  806.450375\n",
            "40   5376.0  836.912719  822.442313\n",
            "41   5504.0  839.727497  825.199559\n",
            "42   5632.0  839.705076  837.434004\n",
            "43   5760.0  838.585904  834.984624\n",
            "44   5888.0  839.203087  846.163271\n",
            "45   6016.0  839.710464  848.196520\n",
            "46   6144.0  839.667353  847.083999\n",
            "47   6272.0  840.537993  844.316439\n",
            "48   6400.0  840.798883  842.704198\n",
            "49   6528.0  839.975304  841.389358\n",
            "50   6656.0  840.611560  840.900793\n",
            "51   6784.0  842.703408  842.191442\n",
            "52   6912.0  841.157144  842.584198\n",
            "53   7040.0  842.727239  843.255794\n",
            "54   7168.0  842.338584  843.158825\n",
            "55   7296.0  841.401680  842.126768\n",
            "56   7424.0  842.502519  843.989770\n",
            "57   7552.0  842.554352  843.342709\n",
            "58   7680.0  843.177865  843.128361\n",
            "59   7808.0  843.482069  844.085687\n",
            "60   7936.0  842.441773  842.533207\n",
            "61   8064.0  843.648731  841.093496\n",
            "62   8192.0  840.687477  843.438412\n",
            "63   8320.0  824.096441  834.798118\n",
            "64   8448.0  823.170079  837.966211\n",
            "65   8576.0  823.516633  835.922804\n",
            "66   8704.0  824.393519  839.211676\n",
            "67   8832.0  825.080812  835.988796\n",
            "68   8960.0  825.177924  835.812052\n",
            "69   9088.0  824.407936  838.018887\n",
            "70   9216.0  823.717094  839.354109\n",
            "71   9344.0  823.660076  837.178877\n",
            "72   9472.0  825.687910  839.811791\n",
            "73   9600.0  823.379915  839.888108\n",
            "74   9728.0  824.531018  840.163477\n",
            "75   9856.0  824.850297  842.585778\n",
            "76   9984.0  824.006156  841.594098\n",
            "77  10112.0  823.493971  841.817641\n",
            "78  10240.0  825.271028  842.972641\n",
            "79  10368.0  823.815345  842.960343\n",
            "80  10496.0  823.677578  842.412648\n",
            "81  10624.0  823.568064  842.812964\n",
            "82  10752.0  822.319966  843.794062\n",
            "83  10880.0  823.447614  845.746347\n",
            "84  11008.0  823.102718  845.029546\n",
            "85  11136.0  822.938628  846.820789\n",
            "86  11264.0  822.838121  847.420650\n",
            "87  11392.0  821.303647  847.362105\n",
            "88  11520.0  822.401276  848.243623\n",
            "89  11648.0  823.676465  849.346619\n",
            "90  11776.0  825.319538  848.362006\n",
            "91  11904.0  823.301613  846.712461\n",
            "92  12032.0  824.454766  847.526606\n",
            "93  12160.0  824.519370  848.700063\n",
            "94  12288.0  823.277734  829.368986\n",
            "95  12416.0  821.925293  736.141361\n",
            "96  12544.0  820.739318  737.703066\n",
            "97  12672.0  821.320031  718.221235\n"
          ]
        }
      ],
      "source": [
        "@triton.testing.perf_report(\n",
        "    triton.testing.Benchmark(\n",
        "        x_names=['N'],  # argument names to use as an x-axis for the plot\n",
        "        x_vals=[128 * i for i in range(2, 100)],  # different possible values for `x_name`\n",
        "        line_arg='provider',  # argument name whose value corresponds to a different line in the plot\n",
        "        line_vals=['triton', 'torch'],  # possible values for `line_arg``\n",
        "        line_names=[\n",
        "            \"Triton\",\n",
        "            \"Torch\",\n",
        "        ],  # label name for the lines\n",
        "        styles=[('blue', '-'), ('green', '-')],  # line styles\n",
        "        ylabel=\"GB/s\",  # label name for the y-axis\n",
        "        plot_name=\"softmax-performance\",  # name for the plot. Used also as a file name for saving the plot.\n",
        "        args={'M': 4096},  # values for function arguments not in `x_names` and `y_name`\n",
        "    ))\n",
        "def benchmark(M, N, provider):\n",
        "    x = torch.randn(M, N, device=DEVICE, dtype=torch.float32)\n",
        "    stream = getattr(torch, DEVICE.type).Stream()\n",
        "    getattr(torch, DEVICE.type).set_stream(stream)\n",
        "    if provider == 'torch':\n",
        "        ms = triton.testing.do_bench(lambda: torch.softmax(x, axis=-1))\n",
        "    if provider == 'triton':\n",
        "        ms = triton.testing.do_bench(lambda: softmax(x))\n",
        "    gbps = lambda ms: 2 * x.numel() * x.element_size() * 1e-9 / (ms * 1e-3)\n",
        "    return gbps(ms)\n",
        "\n",
        "\n",
        "benchmark.run(show_plots=True, print_data=True)"
      ]
    },
    {
      "cell_type": "markdown",
      "metadata": {},
      "source": [
        "In the above plot, we can see that:\n",
        " - Triton is 4x faster than the Torch JIT. This confirms our suspicions that the Torch JIT does not do any fusion here.\n",
        " - Triton is noticeably faster than :code:`torch.softmax` -- in addition to being **easier to read, understand and maintain**.\n",
        "   Note however that the PyTorch `softmax` operation is more general and will work on tensors of any shape.\n",
        "\n"
      ]
    }
  ],
  "metadata": {
    "kernelspec": {
      "display_name": "Python (uv)",
      "language": "python",
      "name": "uv-env"
    },
    "language_info": {
      "codemirror_mode": {
        "name": "ipython",
        "version": 3
      },
      "file_extension": ".py",
      "mimetype": "text/x-python",
      "name": "python",
      "nbconvert_exporter": "python",
      "pygments_lexer": "ipython3",
      "version": "3.10.12"
    }
  },
  "nbformat": 4,
  "nbformat_minor": 0
}
